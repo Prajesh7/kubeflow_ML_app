{
 "cells": [
  {
   "cell_type": "code",
   "execution_count": 1,
   "metadata": {},
   "outputs": [],
   "source": [
    "import os"
   ]
  },
  {
   "cell_type": "code",
   "execution_count": 2,
   "metadata": {},
   "outputs": [
    {
     "data": {
      "text/plain": [
       "'c:\\\\Prajesh\\\\personal\\\\ML_learning\\\\my_work\\\\kubeflow_app\\\\kubeflow_ML_app\\\\ML_flow_app\\\\research'"
      ]
     },
     "execution_count": 2,
     "metadata": {},
     "output_type": "execute_result"
    }
   ],
   "source": [
    "pwd"
   ]
  },
  {
   "cell_type": "code",
   "execution_count": 3,
   "metadata": {},
   "outputs": [
    {
     "name": "stdout",
     "output_type": "stream",
     "text": [
      "c:\\Prajesh\\personal\\ML_learning\\my_work\\kubeflow_app\\kubeflow_ML_app\\ML_flow_app\n"
     ]
    }
   ],
   "source": [
    "cd .."
   ]
  },
  {
   "cell_type": "code",
   "execution_count": 4,
   "metadata": {},
   "outputs": [],
   "source": [
    "from dataclasses import dataclass\n",
    "from pathlib import Path\n",
    "\n",
    "@dataclass(frozen = True)\n",
    "class DataTransformationConfig:\n",
    "    root_dir: Path\n",
    "    data_path: Path"
   ]
  },
  {
   "cell_type": "code",
   "execution_count": 5,
   "metadata": {},
   "outputs": [],
   "source": [
    "from mlFlowProject.constants import *\n",
    "from mlFlowProject.utils.common import read_yaml, create_directories"
   ]
  },
  {
   "cell_type": "code",
   "execution_count": 6,
   "metadata": {},
   "outputs": [],
   "source": [
    "class ConfigurationManager:\n",
    "    def __init__(\n",
    "        self, \n",
    "        config_filepath = CONFIG_FILE_PATH,\n",
    "        params_filepath = PARAMS_FILE_PATH,\n",
    "        schema_filepath = SCHEMA_FILE_PATH\n",
    "    ):\n",
    "\n",
    "        self.config = read_yaml(config_filepath)\n",
    "        self.params = read_yaml(params_filepath)\n",
    "        self.schema = read_yaml(schema_filepath)\n",
    "        \n",
    "        create_directories([self.config.artifacts_root])\n",
    "        \n",
    "    def get_data_transformation_config(self)->DataTransformationConfig:\n",
    "        config = self.config.data_transformation\n",
    "        \n",
    "        create_directories([config.root_dir])\n",
    "        \n",
    "        data_transformation_config = DataTransformationConfig(\n",
    "            root_dir = config.root_dir,\n",
    "            data_path = config.data_path,\n",
    "        )\n",
    "        \n",
    "        return data_transformation_config"
   ]
  },
  {
   "cell_type": "code",
   "execution_count": 7,
   "metadata": {},
   "outputs": [],
   "source": [
    "import os\n",
    "import pandas as pd\n",
    "from sklearn.model_selection import train_test_split\n",
    "from mlFlowProject import logger"
   ]
  },
  {
   "cell_type": "code",
   "execution_count": 45,
   "metadata": {},
   "outputs": [],
   "source": [
    "class DataTransformation:\n",
    "    def __init__(self, config: DataTransformationConfig):\n",
    "        self.config = config\n",
    "    \n",
    "    def train_test_split(self):\n",
    "        data = pd.read_csv(self.config.data_path)\n",
    "        data = data.dropna()\n",
    "        # X = data['Open']\n",
    "        # y = data['Close']\n",
    "        \n",
    "        # X_train, X_test, y_train, y_test = train_test_split(X, y, test_size = 0.2)\n",
    "        \n",
    "        # train = pd.DataFrame()\n",
    "        # train['X'] = X_train\n",
    "        # train['y'] = y_train\n",
    "        # test = pd.DataFrame()\n",
    "        # test['X'] = X_test\n",
    "        # test['y'] = y_test\n",
    "        train, test = train_test_split(data)\n",
    "        \n",
    "        train.to_csv(os.path.join(self.config.root_dir, \"train.csv\"), index = False)\n",
    "        test.to_csv(os.path.join(self.config.root_dir, \"test.csv\"), index = False)\n",
    "        \n",
    "        logger.info(\"Data split into train and test\")\n",
    "        logger.info(f\"train data shape: {train.shape}\")\n",
    "        logger.info(f\"test data shape: {test.shape}\")\n",
    "        \n",
    "        print(train.shape)\n",
    "        print(test.shape)"
   ]
  },
  {
   "cell_type": "code",
   "execution_count": 46,
   "metadata": {},
   "outputs": [
    {
     "name": "stdout",
     "output_type": "stream",
     "text": [
      "[2023-08-06 12:00:33,781: INFO: common: yaml file: config\\config.yaml loaded successfully]\n",
      "[2023-08-06 12:00:33,783: INFO: common: yaml file: params.yaml loaded successfully]\n",
      "[2023-08-06 12:00:33,786: INFO: common: yaml file: schema.yaml loaded successfully]\n",
      "[2023-08-06 12:00:33,788: INFO: common: created directory at: artifacts]\n",
      "[2023-08-06 12:00:33,789: INFO: common: created directory at: artifacts/data_transformation]\n",
      "[2023-08-06 12:00:33,858: INFO: 4294388291: Data split into train and test]\n",
      "[2023-08-06 12:00:33,859: INFO: 4294388291: train data shape: (5205, 7)]\n",
      "[2023-08-06 12:00:33,860: INFO: 4294388291: test data shape: (1735, 7)]\n",
      "(5205, 7)\n",
      "(1735, 7)\n"
     ]
    }
   ],
   "source": [
    "try:\n",
    "    config_manager = ConfigurationManager()\n",
    "    data_transformation_config = config_manager.get_data_transformation_config()\n",
    "    data_transformation = DataTransformation(config = data_transformation_config)\n",
    "    data_transformation.train_test_split()\n",
    "except Exception as e:\n",
    "    raise e"
   ]
  },
  {
   "cell_type": "code",
   "execution_count": 47,
   "metadata": {},
   "outputs": [],
   "source": [
    "testing = pd.read_csv(\"C:/Prajesh/personal/ML_learning/my_work/kubeflow_app/kubeflow_ML_app/ML_flow_app/artifacts/data_transformation/train.csv\")"
   ]
  },
  {
   "cell_type": "code",
   "execution_count": 48,
   "metadata": {},
   "outputs": [
    {
     "data": {
      "text/html": [
       "<div>\n",
       "<style scoped>\n",
       "    .dataframe tbody tr th:only-of-type {\n",
       "        vertical-align: middle;\n",
       "    }\n",
       "\n",
       "    .dataframe tbody tr th {\n",
       "        vertical-align: top;\n",
       "    }\n",
       "\n",
       "    .dataframe thead th {\n",
       "        text-align: right;\n",
       "    }\n",
       "</style>\n",
       "<table border=\"1\" class=\"dataframe\">\n",
       "  <thead>\n",
       "    <tr style=\"text-align: right;\">\n",
       "      <th></th>\n",
       "      <th>Date</th>\n",
       "      <th>Open</th>\n",
       "      <th>High</th>\n",
       "      <th>Low</th>\n",
       "      <th>Close</th>\n",
       "      <th>Adj Close</th>\n",
       "      <th>Volume</th>\n",
       "    </tr>\n",
       "  </thead>\n",
       "  <tbody>\n",
       "    <tr>\n",
       "      <th>0</th>\n",
       "      <td>2007-02-08</td>\n",
       "      <td>116.349998</td>\n",
       "      <td>118.449997</td>\n",
       "      <td>113.599998</td>\n",
       "      <td>115.300003</td>\n",
       "      <td>81.215797</td>\n",
       "      <td>100400715.0</td>\n",
       "    </tr>\n",
       "    <tr>\n",
       "      <th>1</th>\n",
       "      <td>2008-03-14</td>\n",
       "      <td>195.500000</td>\n",
       "      <td>204.600006</td>\n",
       "      <td>188.199997</td>\n",
       "      <td>202.100006</td>\n",
       "      <td>145.134659</td>\n",
       "      <td>103259190.0</td>\n",
       "    </tr>\n",
       "    <tr>\n",
       "      <th>2</th>\n",
       "      <td>2014-02-07</td>\n",
       "      <td>62.299999</td>\n",
       "      <td>64.099998</td>\n",
       "      <td>62.150002</td>\n",
       "      <td>63.650002</td>\n",
       "      <td>51.677437</td>\n",
       "      <td>9912400.0</td>\n",
       "    </tr>\n",
       "    <tr>\n",
       "      <th>3</th>\n",
       "      <td>2000-03-22</td>\n",
       "      <td>8.600000</td>\n",
       "      <td>9.600000</td>\n",
       "      <td>8.450000</td>\n",
       "      <td>8.850000</td>\n",
       "      <td>5.638875</td>\n",
       "      <td>8208070.0</td>\n",
       "    </tr>\n",
       "    <tr>\n",
       "      <th>4</th>\n",
       "      <td>2017-03-17</td>\n",
       "      <td>63.950001</td>\n",
       "      <td>64.599998</td>\n",
       "      <td>62.549999</td>\n",
       "      <td>63.400002</td>\n",
       "      <td>54.763546</td>\n",
       "      <td>7331709.0</td>\n",
       "    </tr>\n",
       "  </tbody>\n",
       "</table>\n",
       "</div>"
      ],
      "text/plain": [
       "         Date        Open        High         Low       Close   Adj Close  \\\n",
       "0  2007-02-08  116.349998  118.449997  113.599998  115.300003   81.215797   \n",
       "1  2008-03-14  195.500000  204.600006  188.199997  202.100006  145.134659   \n",
       "2  2014-02-07   62.299999   64.099998   62.150002   63.650002   51.677437   \n",
       "3  2000-03-22    8.600000    9.600000    8.450000    8.850000    5.638875   \n",
       "4  2017-03-17   63.950001   64.599998   62.549999   63.400002   54.763546   \n",
       "\n",
       "        Volume  \n",
       "0  100400715.0  \n",
       "1  103259190.0  \n",
       "2    9912400.0  \n",
       "3    8208070.0  \n",
       "4    7331709.0  "
      ]
     },
     "execution_count": 48,
     "metadata": {},
     "output_type": "execute_result"
    }
   ],
   "source": [
    "testing.head()"
   ]
  },
  {
   "cell_type": "code",
   "execution_count": 44,
   "metadata": {},
   "outputs": [
    {
     "data": {
      "text/plain": [
       "Open     0\n",
       "Close    0\n",
       "dtype: int64"
      ]
     },
     "execution_count": 44,
     "metadata": {},
     "output_type": "execute_result"
    }
   ],
   "source": [
    "testing.isnull().sum()"
   ]
  },
  {
   "cell_type": "code",
   "execution_count": null,
   "metadata": {},
   "outputs": [],
   "source": []
  }
 ],
 "metadata": {
  "kernelspec": {
   "display_name": "Python 3",
   "language": "python",
   "name": "python3"
  },
  "language_info": {
   "codemirror_mode": {
    "name": "ipython",
    "version": 3
   },
   "file_extension": ".py",
   "mimetype": "text/x-python",
   "name": "python",
   "nbconvert_exporter": "python",
   "pygments_lexer": "ipython3",
   "version": "3.7.9"
  },
  "orig_nbformat": 4
 },
 "nbformat": 4,
 "nbformat_minor": 2
}
