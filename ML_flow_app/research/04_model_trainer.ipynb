{
 "cells": [
  {
   "cell_type": "code",
   "execution_count": 1,
   "metadata": {},
   "outputs": [],
   "source": [
    "import os"
   ]
  },
  {
   "cell_type": "code",
   "execution_count": 2,
   "metadata": {},
   "outputs": [
    {
     "data": {
      "text/plain": [
       "'c:\\\\Prajesh\\\\personal\\\\ML_learning\\\\my_work\\\\kubeflow_app\\\\kubeflow_ML_app\\\\ML_flow_app\\\\research'"
      ]
     },
     "execution_count": 2,
     "metadata": {},
     "output_type": "execute_result"
    }
   ],
   "source": [
    "pwd"
   ]
  },
  {
   "cell_type": "code",
   "execution_count": 3,
   "metadata": {},
   "outputs": [
    {
     "name": "stdout",
     "output_type": "stream",
     "text": [
      "c:\\Prajesh\\personal\\ML_learning\\my_work\\kubeflow_app\\kubeflow_ML_app\\ML_flow_app\n"
     ]
    }
   ],
   "source": [
    "cd .."
   ]
  },
  {
   "cell_type": "code",
   "execution_count": 4,
   "metadata": {},
   "outputs": [],
   "source": [
    "from dataclasses import dataclass\n",
    "from pathlib import Path\n",
    "\n",
    "@dataclass(frozen = True)\n",
    "class ModelTrainerConfig:\n",
    "    root_dir: Path\n",
    "    train_data_path: Path\n",
    "    test_data_path: Path\n",
    "    model_name: str\n",
    "    n_estimators: int\n",
    "    max_depth: int\n",
    "    target_col: str"
   ]
  },
  {
   "cell_type": "code",
   "execution_count": 5,
   "metadata": {},
   "outputs": [],
   "source": [
    "from mlFlowProject.constants import *\n",
    "from mlFlowProject.utils.common import read_yaml, create_directories"
   ]
  },
  {
   "cell_type": "code",
   "execution_count": 6,
   "metadata": {},
   "outputs": [],
   "source": [
    "class ConfigurationManager:\n",
    "    def __init__(\n",
    "        self, \n",
    "        config_filepath = CONFIG_FILE_PATH,\n",
    "        params_filepath = PARAMS_FILE_PATH,\n",
    "        schema_filepath = SCHEMA_FILE_PATH\n",
    "    ):\n",
    "\n",
    "        self.config = read_yaml(config_filepath)\n",
    "        self.params = read_yaml(params_filepath)\n",
    "        self.schema = read_yaml(schema_filepath)\n",
    "        \n",
    "        create_directories([self.config.artifacts_root])\n",
    "        \n",
    "    def get_model_trainer_config(self) -> ModelTrainerConfig:\n",
    "        config = self.config.model_trainer\n",
    "        params = self.params.RandomForestRegressor\n",
    "        schema = self.schema.TARGET_COLUMN\n",
    "        \n",
    "        create_directories([config.root_dir])\n",
    "        \n",
    "        model_trainer_config = ModelTrainerConfig(\n",
    "            root_dir = config.root_dir,\n",
    "            train_data_path = config.train_data_path,\n",
    "            test_data_path = config.test_data_path,\n",
    "            model_name = config.model_name,\n",
    "            n_estimators = params.n_estimators,\n",
    "            max_depth = params.max_depth,\n",
    "            target_col = schema.name\n",
    "        )\n",
    "        \n",
    "        return model_trainer_config"
   ]
  },
  {
   "cell_type": "code",
   "execution_count": 19,
   "metadata": {},
   "outputs": [],
   "source": [
    "import pandas as pd\n",
    "import os\n",
    "from mlFlowProject import logger\n",
    "from sklearn.ensemble import RandomForestRegressor\n",
    "from sklearn.model_selection import cross_val_score\n",
    "import optuna\n",
    "import joblib\n",
    "import numpy as np\n",
    "import yaml"
   ]
  },
  {
   "cell_type": "code",
   "execution_count": 23,
   "metadata": {},
   "outputs": [],
   "source": [
    "class ModelTrainer:\n",
    "    def __init__(self, config: ModelTrainerConfig):\n",
    "        self.config = config\n",
    "    \n",
    "    def hp_tune(self, trial, xtrain, ytrain):\n",
    "        # crit = trial.suggest_categorical(\"criterion\", [\"entropy\"])\n",
    "        n_est = trial.suggest_int(\"n_estimators\", 2, 200, log = True)\n",
    "        m_depth = trial.suggest_int(\"max_depth\", 1, 100, log = True)\n",
    "        rfr = RandomForestRegressor(n_estimators = n_est, max_depth = m_depth)\n",
    "        \n",
    "        score = cross_val_score(rfr, xtrain, ytrain, cv = 3)\n",
    "        accuracy = score.mean()\n",
    "        return accuracy\n",
    "\n",
    "    def train(self):\n",
    "        train_data = pd.read_csv(self.config.train_data_path)\n",
    "        test_data = pd.read_csv(self.config.test_data_path)\n",
    "        \n",
    "        x_train = np.array(train_data['Open']).reshape(-1, 1)\n",
    "        x_test = np.array(test_data['Open']).reshape(-1, 1)\n",
    "        y_train = np.array(train_data[[self.config.target_col]]).reshape(-1)\n",
    "        y_test = np.array(test_data[[self.config.target_col]]).reshape(-1)\n",
    "        \n",
    "        print(x_train.shape, y_train.shape)\n",
    "        study = optuna.create_study(direction=\"maximize\")\n",
    "        # study.optimize(self.hp_tune, (n_trials=25, x_train, y_train))\n",
    "        study.optimize(lambda trial: self.hp_tune(trial, x_train, y_train), n_trials=25)\n",
    "        n_estimators = study.best_params['n_estimators']\n",
    "        max_depth = study.best_params['max_depth']\n",
    "        rfr = RandomForestRegressor(\n",
    "            n_estimators= n_estimators,\n",
    "            max_depth= max_depth\n",
    "        )\n",
    "        \n",
    "        rfr.fit(x_train, y_train)\n",
    "        \n",
    "        joblib.dump(rfr, os.path.join(self.config.root_dir, self.config.model_name))\n",
    "        \n",
    "        if self.config.n_estimators != n_estimators or self.config.max_depth != max_depth:\n",
    "            with open(PARAMS_FILE_PATH, 'r') as f:\n",
    "                tuned_params = yaml.safe_load(f)\n",
    "            tuned_params[\"RandomForestRegressor\"][\"n_estimators\"] = n_estimators\n",
    "            tuned_params[\"RandomForestRegressor\"][\"max_depth\"] = max_depth\n",
    "            with open(PARAMS_FILE_PATH, 'w') as f:\n",
    "                yaml.dump(tuned_params, f, default_flow_style=False)"
   ]
  },
  {
   "cell_type": "code",
   "execution_count": 24,
   "metadata": {},
   "outputs": [
    {
     "name": "stdout",
     "output_type": "stream",
     "text": [
      "[2023-08-07 15:42:13,449: INFO: common: yaml file: config\\config.yaml loaded successfully]\n",
      "[2023-08-07 15:42:13,450: INFO: common: yaml file: params.yaml loaded successfully]\n",
      "[2023-08-07 15:42:13,452: INFO: common: yaml file: schema.yaml loaded successfully]\n",
      "[2023-08-07 15:42:13,453: INFO: common: created directory at: artifacts]\n",
      "[2023-08-07 15:42:13,454: INFO: common: created directory at: artifacts/model_trainer]\n"
     ]
    },
    {
     "name": "stderr",
     "output_type": "stream",
     "text": [
      "[I 2023-08-07 15:42:13,467] A new study created in memory with name: no-name-cd332aac-1c87-4041-adba-b163708ea778\n"
     ]
    },
    {
     "name": "stdout",
     "output_type": "stream",
     "text": [
      "(5205, 1) (5205,)\n"
     ]
    },
    {
     "name": "stderr",
     "output_type": "stream",
     "text": [
      "[I 2023-08-07 15:42:13,997] Trial 0 finished with value: 0.9973430920474698 and parameters: {'n_estimators': 56, 'max_depth': 87}. Best is trial 0 with value: 0.9973430920474698.\n",
      "[I 2023-08-07 15:42:14,623] Trial 1 finished with value: 0.9238731216407077 and parameters: {'n_estimators': 153, 'max_depth': 2}. Best is trial 0 with value: 0.9973430920474698.\n"
     ]
    },
    {
     "name": "stdout",
     "output_type": "stream",
     "text": [
      "56 87\n"
     ]
    }
   ],
   "source": [
    "try:\n",
    "    config_manager = ConfigurationManager()\n",
    "    model_trainer_config = config_manager.get_model_trainer_config()\n",
    "    model_trainer = ModelTrainer(config = model_trainer_config)\n",
    "    model_trainer.train()\n",
    "except Exception as e:\n",
    "    raise e"
   ]
  },
  {
   "cell_type": "code",
   "execution_count": null,
   "metadata": {},
   "outputs": [],
   "source": []
  }
 ],
 "metadata": {
  "kernelspec": {
   "display_name": "Python 3",
   "language": "python",
   "name": "python3"
  },
  "language_info": {
   "codemirror_mode": {
    "name": "ipython",
    "version": 3
   },
   "file_extension": ".py",
   "mimetype": "text/x-python",
   "name": "python",
   "nbconvert_exporter": "python",
   "pygments_lexer": "ipython3",
   "version": "3.7.9"
  },
  "orig_nbformat": 4
 },
 "nbformat": 4,
 "nbformat_minor": 2
}
