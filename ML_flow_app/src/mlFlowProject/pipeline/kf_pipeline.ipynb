{
 "cells": [
  {
   "cell_type": "code",
   "execution_count": 1,
   "metadata": {},
   "outputs": [],
   "source": [
    "# commands to push docker image to hub:\n",
    "# docker logout\n",
    "# docker login\n",
    "# docker tag image_name:tag user/hubname:image_name\n",
    "# docker push user/hubname:image_name"
   ]
  },
  {
   "cell_type": "code",
   "execution_count": 2,
   "metadata": {},
   "outputs": [],
   "source": [
    "import kfp\n",
    "import kfp.components as comp\n",
    "import requests\n",
    "import kfp.dsl as dsl\n",
    "import pandas as pd"
   ]
  },
  {
   "cell_type": "code",
   "execution_count": 3,
   "metadata": {},
   "outputs": [],
   "source": [
    "def data_ingestion():\n",
    "    from mlFlowProject import logger\n",
    "    from mlFlowProject.pipeline.stage_01_data_ingestion import DataIngestionTrainingPipeline\n",
    "    \n",
    "    STAGE_NAME = \"data ingestion stage\"\n",
    "    try:\n",
    "        logger.info(f\">>>> stage {STAGE_NAME} started <<<<\")\n",
    "        data_ingestion = DataIngestionTrainingPipeline()\n",
    "        data_ingestion.main()\n",
    "        logger.info(f\">>>> stage {STAGE_NAME} completed <<<<\\n\\nx========x\")\n",
    "    except Exception as e:\n",
    "        logger.exception(e)\n",
    "        raise e"
   ]
  },
  {
   "cell_type": "code",
   "execution_count": 4,
   "metadata": {},
   "outputs": [],
   "source": [
    "def data_validation():\n",
    "    from mlFlowProject import logger\n",
    "    from mlFlowProject.pipeline.stage_02_data_validation import DataValidationTrainingPipeline\n",
    "    \n",
    "    STAGE_NAME = \"data validation stage\"\n",
    "    try:\n",
    "        logger.info(f\">>>> stage {STAGE_NAME} started <<<<\")\n",
    "        data_val = DataValidationTrainingPipeline()\n",
    "        data_val.main()\n",
    "        logger.info(f\">>>> stage {STAGE_NAME} completed <<<<\\n\\nx========x\")\n",
    "    except Exception as e:\n",
    "        logger.exception(e)\n",
    "        raise e"
   ]
  },
  {
   "cell_type": "code",
   "execution_count": 5,
   "metadata": {},
   "outputs": [],
   "source": [
    "def data_transformation():\n",
    "    from mlFlowProject import logger\n",
    "    from mlFlowProject.pipeline.stage_03_data_transformation import DataTransformationTrainingPipeline\n",
    "    \n",
    "    STAGE_NAME = \"data transformation stage\"\n",
    "    try:\n",
    "        logger.info(f\">>>> stage {STAGE_NAME} started <<<<\")\n",
    "        data_transform = DataTransformationTrainingPipeline()\n",
    "        data_transform.main()\n",
    "        logger.info(f\">>>> stage {STAGE_NAME} completed <<<<\\n\\nx========x\")\n",
    "    except Exception as e:\n",
    "        logger.exception(e)\n",
    "        raise e"
   ]
  },
  {
   "cell_type": "code",
   "execution_count": 6,
   "metadata": {},
   "outputs": [],
   "source": [
    "def model_trainer():\n",
    "    from mlFlowProject import logger\n",
    "    from mlFlowProject.pipeline.stage_04_model_trainer import ModelTrainerTrainingPipeline\n",
    "    \n",
    "    STAGE_NAME = \"Model training stage\"\n",
    "    try:\n",
    "        logger.info(f\">>>> stage {STAGE_NAME} started <<<<\")\n",
    "        model_train = ModelTrainerTrainingPipeline()\n",
    "        model_train.main()\n",
    "        logger.info(f\">>>> stage {STAGE_NAME} completed <<<<\\n\\nx========x\")\n",
    "    except Exception as e:\n",
    "        logger.exception(e)\n",
    "        raise e"
   ]
  },
  {
   "cell_type": "code",
   "execution_count": 7,
   "metadata": {},
   "outputs": [],
   "source": [
    "def model_evaluation():\n",
    "    from mlFlowProject import logger\n",
    "    from mlFlowProject.pipeline.stage_05_model_evaluation import ModelEvaluationTrainingPipeline\n",
    "    \n",
    "    STAGE_NAME = \"Model evaluation stage\"\n",
    "    try:\n",
    "        logger.info(f\">>>> stage {STAGE_NAME} started <<<<\")\n",
    "        model_eval = ModelEvaluationTrainingPipeline()\n",
    "        model_eval.main()\n",
    "        logger.info(f\">>>> stage {STAGE_NAME} completed <<<<\\n\\nx========x\")\n",
    "    except Exception as e:\n",
    "        logger.exception(e)\n",
    "        raise e"
   ]
  },
  {
   "cell_type": "code",
   "execution_count": 8,
   "metadata": {},
   "outputs": [],
   "source": [
    "create_step_data_ingestion = kfp.components.create_component_from_func(\n",
    "    func = data_ingestion,\n",
    "    base_image='prajesh7/sail_mlflow:sail_mlflow',\n",
    "    # packages_to_install=['mlFlowProject']\n",
    ")"
   ]
  },
  {
   "cell_type": "code",
   "execution_count": 9,
   "metadata": {},
   "outputs": [],
   "source": [
    "create_step_data_validation = kfp.components.create_component_from_func(\n",
    "    func = data_validation,\n",
    "    base_image='prajesh7/sail_mlflow:sail_mlflow',\n",
    "    packages_to_install=['pandas', 'mlFlowProject']\n",
    ")"
   ]
  },
  {
   "cell_type": "code",
   "execution_count": 10,
   "metadata": {},
   "outputs": [],
   "source": [
    "create_setp_data_transformation = kfp.components.create_component_from_func(\n",
    "    func = data_transformation,\n",
    "    base_image='prajesh7/sail_mlflow:sail_mlflow',\n",
    "    packages_to_install=['pandas', 'scikit-learn', 'mlFlowProject']\n",
    ")"
   ]
  },
  {
   "cell_type": "code",
   "execution_count": 11,
   "metadata": {},
   "outputs": [],
   "source": [
    "create_step_model_training = kfp.components.create_component_from_func(\n",
    "    func = model_trainer,\n",
    "    base_image='prajesh7/sail_mlflow:sail_mlflow',\n",
    "    packages_to_install=['pandas', 'scikit-learn', 'numpy', 'mlFlowProject']\n",
    ")"
   ]
  },
  {
   "cell_type": "code",
   "execution_count": 12,
   "metadata": {},
   "outputs": [],
   "source": [
    "create_step_model_evaluation = kfp.components.create_component_from_func(\n",
    "    func = model_evaluation,\n",
    "    base_image='prajesh7/sail_mlflow:sail_mlflow',\n",
    "    packages_to_install=['pandas', 'mlflow', 'scikit-learn', 'numpy', 'mlFlowProject']\n",
    ")"
   ]
  },
  {
   "cell_type": "code",
   "execution_count": 13,
   "metadata": {},
   "outputs": [],
   "source": [
    "@dsl.pipeline(\n",
    "    name=\"sail prediction kubeflow/mlflow pipeline\",\n",
    "    description=\"testing sample\"\n",
    ")\n",
    "def sail_prediction_pipeline(data_path: str):\n",
    "    vop = dsl.VolumeOp(\n",
    "        name = \"t-vol\",\n",
    "        resource_name = \"t-vol\",\n",
    "        size = \"1Gi\",\n",
    "        modes=dsl.VOLUME_MODE_RWO\n",
    "    )\n",
    "    \n",
    "    data_ingestion = create_step_data_ingestion().add_pvolumes({data_path: vop.volume})\n",
    "    data_validation = create_step_data_validation().add_pvolumes({data_path: vop.volume}).after(data_ingestion)\n",
    "    data_transformation = create_setp_data_transformation().add_pvolumes({data_path: vop.volume}).after(data_validation)\n",
    "    model_trainer = create_step_model_training().add_pvolumes({data_path: vop.volume}).after(data_transformation)\n",
    "    model_evaluation = create_step_model_evaluation().add_pvolumes({data_path: vop.volume}).after(model_trainer)\n",
    "    \n",
    "    data_ingestion.execution_options.caching_strategy.max_cache_staleness = \"POD\"\n",
    "    data_validation.execution_options.caching_strategy.max_cache_staleness = \"POD\"\n",
    "    data_transformation.execution_options.caching_strategy.max_cache_staleness = \"POD\"\n",
    "    model_trainer.execution_options.caching_strategy.max_cache_staleness = \"POD\"\n",
    "    model_evaluation.execution_options.caching_strategy.max_cache_staleness = \"POD\""
   ]
  },
  {
   "cell_type": "code",
   "execution_count": 14,
   "metadata": {},
   "outputs": [
    {
     "data": {
      "text/plain": [
       "'c:\\\\Prajesh\\\\personal\\\\ML_learning\\\\my_work\\\\kubeflow_app\\\\kubeflow_ML_app\\\\ML_flow_app\\\\src\\\\mlFlowProject\\\\pipeline'"
      ]
     },
     "execution_count": 14,
     "metadata": {},
     "output_type": "execute_result"
    }
   ],
   "source": [
    "pwd"
   ]
  },
  {
   "cell_type": "code",
   "execution_count": 15,
   "metadata": {},
   "outputs": [
    {
     "name": "stdout",
     "output_type": "stream",
     "text": [
      "c:\\Prajesh\\personal\\ML_learning\\my_work\\kubeflow_app\\kubeflow_ML_app\\ML_flow_app\n"
     ]
    }
   ],
   "source": [
    "cd ../../.."
   ]
  },
  {
   "cell_type": "code",
   "execution_count": 16,
   "metadata": {},
   "outputs": [],
   "source": [
    "kfp.compiler.Compiler().compile(\n",
    "    pipeline_func = sail_prediction_pipeline,\n",
    "    package_path = 'sail_prediction_pipeline2.yaml'\n",
    ")"
   ]
  },
  {
   "cell_type": "code",
   "execution_count": 17,
   "metadata": {},
   "outputs": [],
   "source": [
    "client = kfp.Client()"
   ]
  },
  {
   "cell_type": "code",
   "execution_count": 18,
   "metadata": {},
   "outputs": [
    {
     "name": "stdout",
     "output_type": "stream",
     "text": [
      "2023-08-07\n"
     ]
    },
    {
     "data": {
      "text/html": [
       "<a href=\"/pipeline/#/experiments/details/d15494ca-baa5-44b0-8e91-2990e4070855\" target=\"_blank\" >Experiment details</a>."
      ],
      "text/plain": [
       "<IPython.core.display.HTML object>"
      ]
     },
     "metadata": {},
     "output_type": "display_data"
    },
    {
     "data": {
      "text/html": [
       "<a href=\"/pipeline/#/runs/details/90278ae0-4baf-4516-9e8e-24036dd26515\" target=\"_blank\" >Run details</a>."
      ],
      "text/plain": [
       "<IPython.core.display.HTML object>"
      ]
     },
     "metadata": {},
     "output_type": "display_data"
    }
   ],
   "source": [
    "DATA_PATH = '/artifacts'\n",
    "\n",
    "import datetime\n",
    "print(datetime.datetime.now().date())\n",
    "\n",
    "pipeline_func = sail_prediction_pipeline\n",
    "experiment_name = 'sail_exp' + \"_\" + str(datetime.datetime.now().date())\n",
    "run_name = pipeline_func.__name__ + ' run'\n",
    "namespace = \"kubeflow\"\n",
    "\n",
    "arguments = {\"data_path\": DATA_PATH}\n",
    "\n",
    "kfp.compiler.Compiler().compile(\n",
    "    pipeline_func,\n",
    "    '{}.zip'.format(experiment_name),\n",
    ")\n",
    "\n",
    "run_result = client.create_run_from_pipeline_func(\n",
    "    pipeline_func,\n",
    "    experiment_name = experiment_name,\n",
    "    run_name = run_name,\n",
    "    arguments = arguments\n",
    ")"
   ]
  }
 ],
 "metadata": {
  "kernelspec": {
   "display_name": "Python 3",
   "language": "python",
   "name": "python3"
  },
  "language_info": {
   "codemirror_mode": {
    "name": "ipython",
    "version": 3
   },
   "file_extension": ".py",
   "mimetype": "text/x-python",
   "name": "python",
   "nbconvert_exporter": "python",
   "pygments_lexer": "ipython3",
   "version": "3.7.9"
  },
  "orig_nbformat": 4
 },
 "nbformat": 4,
 "nbformat_minor": 2
}
